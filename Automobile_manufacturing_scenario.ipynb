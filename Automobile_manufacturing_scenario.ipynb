{
  "nbformat": 4,
  "nbformat_minor": 0,
  "metadata": {
    "colab": {
      "provenance": [],
      "toc_visible": true,
      "authorship_tag": "ABX9TyM8fV+H+XzRGDwqsTF0xhHk",
      "include_colab_link": true
    },
    "kernelspec": {
      "name": "python3",
      "display_name": "Python 3"
    },
    "language_info": {
      "name": "python"
    }
  },
  "cells": [
    {
      "cell_type": "markdown",
      "metadata": {
        "id": "view-in-github",
        "colab_type": "text"
      },
      "source": [
        "<a href=\"https://colab.research.google.com/github/yagamiAbhi/Automobile-Manufacturing-Data-Analysis-pySpark/blob/main/Automobile_manufacturing_scenario.ipynb\" target=\"_parent\"><img src=\"https://colab.research.google.com/assets/colab-badge.svg\" alt=\"Open In Colab\"/></a>"
      ]
    },
    {
      "cell_type": "markdown",
      "source": [
        "Consider a leading two-wheeler manufacturing unit that produces two-wheeler components for the designs provided by various automobile companies"
      ],
      "metadata": {
        "id": "iINnmIDX-z4a"
      }
    },
    {
      "cell_type": "code",
      "execution_count": null,
      "metadata": {
        "colab": {
          "base_uri": "https://localhost:8080/"
        },
        "id": "dYi0Y3yH-ebD",
        "outputId": "78fabac5-158d-4185-b441-0f8422aa3c1f"
      },
      "outputs": [
        {
          "output_type": "stream",
          "name": "stdout",
          "text": [
            "Collecting pyspark\n",
            "  Downloading pyspark-3.4.1.tar.gz (310.8 MB)\n",
            "\u001b[2K     \u001b[90m━━━━━━━━━━━━━━━━━━━━━━━━━━━━━━━━━━━━━━━\u001b[0m \u001b[32m310.8/310.8 MB\u001b[0m \u001b[31m4.5 MB/s\u001b[0m eta \u001b[36m0:00:00\u001b[0m\n",
            "\u001b[?25h  Preparing metadata (setup.py) ... \u001b[?25l\u001b[?25hdone\n",
            "Requirement already satisfied: py4j==0.10.9.7 in /usr/local/lib/python3.10/dist-packages (from pyspark) (0.10.9.7)\n",
            "Building wheels for collected packages: pyspark\n",
            "  Building wheel for pyspark (setup.py) ... \u001b[?25l\u001b[?25hdone\n",
            "  Created wheel for pyspark: filename=pyspark-3.4.1-py2.py3-none-any.whl size=311285387 sha256=385d27457ed86b62b091ee92df786b8d3122d72959971b6032f0379027c82606\n",
            "  Stored in directory: /root/.cache/pip/wheels/0d/77/a3/ff2f74cc9ab41f8f594dabf0579c2a7c6de920d584206e0834\n",
            "Successfully built pyspark\n",
            "Installing collected packages: pyspark\n",
            "Successfully installed pyspark-3.4.1\n"
          ]
        }
      ],
      "source": [
        "pip install pyspark"
      ]
    },
    {
      "cell_type": "code",
      "source": [
        "from pyspark import SparkContext\n",
        "sc = SparkContext(master='local',appName='AMS')\n",
        "from pyspark.sql import SparkSession, SQLContext\n",
        "spark = SparkSession(sc)\n",
        "sqlContext = SQLContext(sc)"
      ],
      "metadata": {
        "colab": {
          "base_uri": "https://localhost:8080/"
        },
        "id": "M9yECPgUAz_D",
        "outputId": "841fee20-903d-402b-d804-77afc3501150"
      },
      "execution_count": null,
      "outputs": [
        {
          "output_type": "stream",
          "name": "stderr",
          "text": [
            "/usr/local/lib/python3.10/dist-packages/pyspark/sql/context.py:112: FutureWarning: Deprecated in 3.0.0. Use SparkSession.builder.getOrCreate() instead.\n",
            "  warnings.warn(\n"
          ]
        }
      ]
    },
    {
      "cell_type": "markdown",
      "source": [
        "### Schema for the Datasets"
      ],
      "metadata": {
        "id": "qPobVhbyB934"
      }
    },
    {
      "cell_type": "code",
      "source": [
        "from pyspark.sql.types import StructType, StructField, StringType, IntegerType, LongType, DoubleType"
      ],
      "metadata": {
        "id": "OefOJg5vBcU0"
      },
      "execution_count": null,
      "outputs": []
    },
    {
      "cell_type": "code",
      "source": [
        "order_schema = StructType([StructField('OrderID', StringType(), True),\n",
        "                           StructField('CompanyID', StringType(), True),\n",
        "                           StructField('partsRequired', StringType(), True),\n",
        "                           StructField('OrderQuantity', StringType(), True),\n",
        "                           StructField('CostOfPart', StringType(), True),\n",
        "                           StructField('OrderDate', StringType(), True),\n",
        "                           StructField('ExpectedDeliveryDate', StringType(), True),\n",
        "                           StructField('DeliveryStatus', StringType(), True)])\n",
        "\n",
        "company_schema = StructType([StructField('CompanyID', StringType(), True),\n",
        "                             StructField('CompanyName', StringType(), True),\n",
        "                             StructField('CompanyLocation', StringType(), True),\n",
        "                             StructField('CompanyContact', StringType(), True),\n",
        "                             StructField('EstablishedYear', StringType(), True)])"
      ],
      "metadata": {
        "id": "u7zcVyqNCR8X"
      },
      "execution_count": null,
      "outputs": []
    },
    {
      "cell_type": "markdown",
      "source": [
        "### Load both the csv files into RDDs"
      ],
      "metadata": {
        "id": "106sCGn2EFsf"
      }
    },
    {
      "cell_type": "code",
      "source": [
        "OrderBookRDD = sc.textFile('/content/OrderBook.csv')\n",
        "CompanyDetailsRDD = sc.textFile('/content/CompanyDetails.csv')"
      ],
      "metadata": {
        "id": "ehO-UN_xEKa_"
      },
      "execution_count": null,
      "outputs": []
    },
    {
      "cell_type": "code",
      "source": [
        "OrderBookRDD = OrderBookRDD.map(lambda col:col.split(','))\n",
        "CompanyDetailsRDD = CompanyDetailsRDD.map(lambda col:col.split(','))"
      ],
      "metadata": {
        "id": "b5zwbVW2EdeZ"
      },
      "execution_count": null,
      "outputs": []
    },
    {
      "cell_type": "code",
      "source": [
        "display(OrderBookRDD.take(2))\n",
        "CompanyDetailsRDD.take(2)"
      ],
      "metadata": {
        "colab": {
          "base_uri": "https://localhost:8080/",
          "height": 329
        },
        "id": "qMyy8pJ4EsGB",
        "outputId": "29f1f61d-5f17-4e4b-c399-1871d0e411d0"
      },
      "execution_count": null,
      "outputs": [
        {
          "output_type": "display_data",
          "data": {
            "text/plain": [
              "[['OD10001',\n",
              "  'C1108',\n",
              "  'Spring Forks',\n",
              "  '21103',\n",
              "  '9487867.48',\n",
              "  '3-Nov-19',\n",
              "  '24-Dec-19',\n",
              "  'Pending'],\n",
              " ['OD10002',\n",
              "  'C1035',\n",
              "  'Fender',\n",
              "  '26272',\n",
              "  '4899369.32',\n",
              "  '18-Dec-19',\n",
              "  '14-Mar-20',\n",
              "  'Pending']]"
            ]
          },
          "metadata": {}
        },
        {
          "output_type": "execute_result",
          "data": {
            "text/plain": [
              "[['C1001', 'Steel Wheels', 'Pennsylvania', '7172809057', '2007'],\n",
              " ['C1002', 'MotoLab Bikes', 'Texas', '6829309477', '2011']]"
            ]
          },
          "metadata": {},
          "execution_count": 18
        }
      ]
    },
    {
      "cell_type": "markdown",
      "source": [
        "### Convert both the datasets to DataFrames"
      ],
      "metadata": {
        "id": "6EpmUsVtE7Cl"
      }
    },
    {
      "cell_type": "code",
      "source": [
        "order_df = spark.createDataFrame(OrderBookRDD, schema=order_schema)\n",
        "company_df = CompanyDetailsRDD.toDF(company_schema)"
      ],
      "metadata": {
        "id": "R3zgoloXE-PQ"
      },
      "execution_count": null,
      "outputs": []
    },
    {
      "cell_type": "code",
      "source": [
        "order_df = order_df.withColumn('OrderQuantity', order_df['OrderQuantity'].cast('long')).withColumn('CostOfPart', order_df['CostOfPart'].cast('double'))\n",
        "order_df.printSchema()"
      ],
      "metadata": {
        "colab": {
          "base_uri": "https://localhost:8080/"
        },
        "id": "EUFEOs4-HP_A",
        "outputId": "8fd16bc6-833e-4a27-97ee-839de8522bbe"
      },
      "execution_count": null,
      "outputs": [
        {
          "output_type": "stream",
          "name": "stdout",
          "text": [
            "root\n",
            " |-- OrderID: string (nullable = true)\n",
            " |-- CompanyID: string (nullable = true)\n",
            " |-- partsRequired: string (nullable = true)\n",
            " |-- OrderQuantity: long (nullable = true)\n",
            " |-- CostOfPart: double (nullable = true)\n",
            " |-- OrderDate: string (nullable = true)\n",
            " |-- ExpectedDeliveryDate: string (nullable = true)\n",
            " |-- DeliveryStatus: string (nullable = true)\n",
            "\n"
          ]
        }
      ]
    },
    {
      "cell_type": "code",
      "source": [
        "company_df = company_df.withColumn('CompanyContact', company_df['CompanyContact'].cast('long')).withColumn('EstablishedYear', company_df['EstablishedYear'].cast('int'))\n",
        "company_df.printSchema()"
      ],
      "metadata": {
        "colab": {
          "base_uri": "https://localhost:8080/"
        },
        "id": "9K1t0nAEIjUQ",
        "outputId": "36f4ae4e-81cb-4002-be6a-152717c35f0b"
      },
      "execution_count": null,
      "outputs": [
        {
          "output_type": "stream",
          "name": "stdout",
          "text": [
            "root\n",
            " |-- CompanyID: string (nullable = true)\n",
            " |-- CompanyName: string (nullable = true)\n",
            " |-- CompanyLocation: string (nullable = true)\n",
            " |-- CompanyContact: long (nullable = true)\n",
            " |-- EstablishedYear: integer (nullable = true)\n",
            "\n"
          ]
        }
      ]
    },
    {
      "cell_type": "code",
      "source": [
        "print('Total records in OrderBook DF : ', order_df.count())\n",
        "order_df.show(3)\n",
        "\n",
        "print('Total records in CompanyDetails DF : ', company_df.count())\n",
        "company_df.show(3)"
      ],
      "metadata": {
        "colab": {
          "base_uri": "https://localhost:8080/"
        },
        "id": "9SRtYGAeJXub",
        "outputId": "a3df4936-29b4-423e-81b4-f6e46642eef1"
      },
      "execution_count": null,
      "outputs": [
        {
          "output_type": "stream",
          "name": "stdout",
          "text": [
            "Total records in OrderBook DF :  1000\n",
            "+-------+---------+-------------+-------------+----------+---------+--------------------+--------------+\n",
            "|OrderID|CompanyID|partsRequired|OrderQuantity|CostOfPart|OrderDate|ExpectedDeliveryDate|DeliveryStatus|\n",
            "+-------+---------+-------------+-------------+----------+---------+--------------------+--------------+\n",
            "|OD10001|    C1108| Spring Forks|        21103|9487867.48| 3-Nov-19|           24-Dec-19|       Pending|\n",
            "|OD10002|    C1035|       Fender|        26272|4899369.32|18-Dec-19|           14-Mar-20|       Pending|\n",
            "|OD10003|    C1174|    Generator|        39789|4008848.49| 7-Dec-19|           31-Jan-20|     Delivered|\n",
            "+-------+---------+-------------+-------------+----------+---------+--------------------+--------------+\n",
            "only showing top 3 rows\n",
            "\n",
            "Total records in CompanyDetails DF :  200\n",
            "+---------+-------------+---------------+--------------+---------------+\n",
            "|CompanyID|  CompanyName|CompanyLocation|CompanyContact|EstablishedYear|\n",
            "+---------+-------------+---------------+--------------+---------------+\n",
            "|    C1001| Steel Wheels|   Pennsylvania|    7172809057|           2007|\n",
            "|    C1002|MotoLab Bikes|          Texas|    6829309477|           2011|\n",
            "|    C1003|     Lee Auto|     California|    6193601290|           1994|\n",
            "+---------+-------------+---------------+--------------+---------------+\n",
            "only showing top 3 rows\n",
            "\n"
          ]
        }
      ]
    },
    {
      "cell_type": "markdown",
      "source": [
        "### Fetch the details of all the companies that are at least 15 years old"
      ],
      "metadata": {
        "id": "0kJVkmRdJwAH"
      }
    },
    {
      "cell_type": "code",
      "source": [
        "comp_15yrs_old = company_df.filter((2023 - company_df.EstablishedYear) >= 15)\n",
        "print('Total numbers of company that are atleast 15 yrs old: ', comp_15yrs_old.count())\n",
        "comp_15yrs_old.show()"
      ],
      "metadata": {
        "colab": {
          "base_uri": "https://localhost:8080/"
        },
        "id": "zp3XPBkPJzgQ",
        "outputId": "e7c8f784-b3f6-4aad-af5f-c83a39f311a8"
      },
      "execution_count": null,
      "outputs": [
        {
          "output_type": "stream",
          "name": "stdout",
          "text": [
            "Total numbers of company that are atleast 15 yrs old:  150\n",
            "+---------+----------------+---------------+--------------+---------------+\n",
            "|CompanyID|     CompanyName|CompanyLocation|CompanyContact|EstablishedYear|\n",
            "+---------+----------------+---------------+--------------+---------------+\n",
            "|    C1001|    Steel Wheels|   Pennsylvania|    7172809057|           2007|\n",
            "|    C1003|        Lee Auto|     California|    6193601290|           1994|\n",
            "|    C1004|     Zoom Dynamo|          Texas|    8327309957|           1993|\n",
            "|    C1005|Quakesons Motors|          Texas|    8175902345|           2002|\n",
            "|    C1007|     Raido Bikes|         Hawaii|    8086946394|           2001|\n",
            "|    C1009| Ilmio Jane Moto|   Pennsylvania|    6108768782|           2007|\n",
            "|    C1011|    Steel Wheels|        Arizona|    6026446720|           1992|\n",
            "|    C1012|Wingmo Standards|     Washington|    5091629062|           2006|\n",
            "|    C1013|    Craiko Roads|           Iowa|    3191050692|           1990|\n",
            "|    C1014|      Reo Bailio|     California|    6195580058|           1995|\n",
            "|    C1015|    Craiko Roads|  Massachusetts|    9787302834|           1991|\n",
            "|    C1017|       Rigmarole|   Pennsylvania|    8143178647|           2006|\n",
            "|    C1018|     Raido Bikes|       Illinois|    8476652456|           1998|\n",
            "|    C1019|     Zoom Dynamo|       Oklahoma|    9183903501|           1992|\n",
            "|    C1020|       Rigmarole|     New Jersey|    8624680309|           2003|\n",
            "|    C1021|       Rigmarole|       Colorado|    7196867948|           2007|\n",
            "|    C1022|     Zoom Dynamo|     California|    6191426647|           1995|\n",
            "|    C1023| Ilmio Jane Moto|      Louisiana|    3189460123|           1993|\n",
            "|    C1024|         Neopins| North Carolina|    3362990838|           2007|\n",
            "|    C1025|     Wicker Auto|   North Dakota|    7011993313|           2006|\n",
            "+---------+----------------+---------------+--------------+---------------+\n",
            "only showing top 20 rows\n",
            "\n"
          ]
        }
      ]
    },
    {
      "cell_type": "markdown",
      "source": [
        "### Fetch the name of the company who have ordered “Brakes”"
      ],
      "metadata": {
        "id": "8K3fWFTrMvpU"
      }
    },
    {
      "cell_type": "code",
      "source": [
        "print('Total numbers of company who ordered \"Brakes\" : ',join_df.filter(\"partsRequired=='Brakes'\").count())"
      ],
      "metadata": {
        "colab": {
          "base_uri": "https://localhost:8080/"
        },
        "id": "ZEUi8ahAOBWn",
        "outputId": "ff1e77d5-545b-4046-b3bb-c6072a5c573c"
      },
      "execution_count": null,
      "outputs": [
        {
          "output_type": "stream",
          "name": "stdout",
          "text": [
            "Total numbers of company who ordered \"Brakes\" :  42\n"
          ]
        }
      ]
    },
    {
      "cell_type": "code",
      "source": [
        "join_df = order_df.join(other=company_df, on='CompanyID', how='inner')\n",
        "join_df.filter(\"partsRequired=='Brakes'\").select(['CompanyName','partsRequired']).show()"
      ],
      "metadata": {
        "colab": {
          "base_uri": "https://localhost:8080/"
        },
        "id": "yR1vPbupM0vr",
        "outputId": "a8ca7d04-91cc-4cd9-fa02-55ce70ace068"
      },
      "execution_count": null,
      "outputs": [
        {
          "output_type": "stream",
          "name": "stdout",
          "text": [
            "+------------------+-------------+\n",
            "|       CompanyName|partsRequired|\n",
            "+------------------+-------------+\n",
            "|       Zoom Dynamo|       Brakes|\n",
            "|      Craiko Roads|       Brakes|\n",
            "|        Kioto Moto|       Brakes|\n",
            "|       Raido Bikes|       Brakes|\n",
            "|       Raido Bikes|       Brakes|\n",
            "|      Laser Wheels|       Brakes|\n",
            "|  Quakesons Motors|       Brakes|\n",
            "|      Steel Wheels|       Brakes|\n",
            "|        Reo Bailio|       Brakes|\n",
            "|        Kioto Moto|       Brakes|\n",
            "|      Damson Bikes|       Brakes|\n",
            "|          Lee Auto|       Brakes|\n",
            "|      Damson Bikes|       Brakes|\n",
            "|        Kioto Moto|       Brakes|\n",
            "|Maino World Motors|       Brakes|\n",
            "|           Neopins|       Brakes|\n",
            "|      Steel Wheels|       Brakes|\n",
            "|          Lee Auto|       Brakes|\n",
            "|  Quakesons Motors|       Brakes|\n",
            "|           Neopins|       Brakes|\n",
            "+------------------+-------------+\n",
            "only showing top 20 rows\n",
            "\n"
          ]
        }
      ]
    },
    {
      "cell_type": "markdown",
      "source": [
        "### Find the total number of “Exhaust Pipes” that have been ordered from “New York” location"
      ],
      "metadata": {
        "id": "aJNZZXW9Oglq"
      }
    },
    {
      "cell_type": "code",
      "source": [
        "temp = join_df.filter( (join_df.partsRequired=='Exhaust Pipes') & (join_df.CompanyLocation=='New York') )\n",
        "print('Total number of “Exhaust Pipes” that have been ordered from “New York” location: ', temp.count())"
      ],
      "metadata": {
        "colab": {
          "base_uri": "https://localhost:8080/"
        },
        "id": "M-fXeEUCOtYq",
        "outputId": "560d43a6-2367-4677-dad0-c814fbbd09da"
      },
      "execution_count": null,
      "outputs": [
        {
          "output_type": "stream",
          "name": "stdout",
          "text": [
            "Total number of “Exhaust Pipes” that have been ordered from “New York” location:  2\n"
          ]
        }
      ]
    },
    {
      "cell_type": "markdown",
      "source": [
        "### Find the total count of all the orders that has been “Delivered”"
      ],
      "metadata": {
        "id": "HaSihrFfTChP"
      }
    },
    {
      "cell_type": "code",
      "source": [
        "temp = order_df.filter(\"DeliveryStatus=='Delivered'\")\n",
        "print('Total count of all the orders that has been Delivered: ', temp.count())"
      ],
      "metadata": {
        "colab": {
          "base_uri": "https://localhost:8080/"
        },
        "id": "zf0HRMjyTVxa",
        "outputId": "d66837a4-bf4c-4021-e4f2-e744c97d1720"
      },
      "execution_count": null,
      "outputs": [
        {
          "output_type": "stream",
          "name": "stdout",
          "text": [
            "Total count of all the orders that has been Delivered:  255\n"
          ]
        }
      ]
    },
    {
      "cell_type": "markdown",
      "source": [
        "### Find the total count of all the orders that has been “Pending”"
      ],
      "metadata": {
        "id": "I_1Gd0rGUTkN"
      }
    },
    {
      "cell_type": "code",
      "source": [
        "temp = order_df.filter(\"DeliveryStatus=='Pending'\")\n",
        "print('Total count of all the orders that has been Pending: ', temp.count())"
      ],
      "metadata": {
        "colab": {
          "base_uri": "https://localhost:8080/"
        },
        "id": "u9VYTl96UYC1",
        "outputId": "c38fc920-f844-4880-f141-ef72a540ce2c"
      },
      "execution_count": null,
      "outputs": [
        {
          "output_type": "stream",
          "name": "stdout",
          "text": [
            "Total count of all the orders that has been Pending:  745\n"
          ]
        }
      ]
    },
    {
      "cell_type": "markdown",
      "source": [
        "### Find the total quantity and cost of all the parts ordered from “North Carolina” location"
      ],
      "metadata": {
        "id": "7mFptfTvUv5l"
      }
    },
    {
      "cell_type": "code",
      "source": [
        "temp = join_df.filter(join_df.CompanyLocation=='North Carolina')"
      ],
      "metadata": {
        "id": "s2U14VHHUxce"
      },
      "execution_count": null,
      "outputs": []
    },
    {
      "cell_type": "code",
      "source": [
        "temp.agg({\"OrderQuantity\": \"sum\", \"CostOfPart\": \"sum\"}).show()"
      ],
      "metadata": {
        "colab": {
          "base_uri": "https://localhost:8080/"
        },
        "id": "p0y2oFHvYGoP",
        "outputId": "678db245-fb25-4b3f-f1ed-da6443e4b2e7"
      },
      "execution_count": null,
      "outputs": [
        {
          "output_type": "stream",
          "name": "stdout",
          "text": [
            "+--------------------+------------------+\n",
            "|     sum(CostOfPart)|sum(OrderQuantity)|\n",
            "+--------------------+------------------+\n",
            "|1.4936626448999998E8|            974157|\n",
            "+--------------------+------------------+\n",
            "\n"
          ]
        }
      ]
    },
    {
      "cell_type": "markdown",
      "source": [
        "### Display the start date, end date and company name who have ordered for “Exhaust Pipes”"
      ],
      "metadata": {
        "id": "CL1TuyX-aXiV"
      }
    },
    {
      "cell_type": "code",
      "source": [
        "join_df.filter(join_df.partsRequired=='Exhaust Pipes').select(['OrderDate', 'ExpectedDeliveryDate', 'CompanyName']).show()"
      ],
      "metadata": {
        "colab": {
          "base_uri": "https://localhost:8080/"
        },
        "id": "S7VVo2sfaZHU",
        "outputId": "224388c0-12c7-4497-ee4a-ab8a4e34986d"
      },
      "execution_count": null,
      "outputs": [
        {
          "output_type": "stream",
          "name": "stdout",
          "text": [
            "+---------+--------------------+------------------+\n",
            "|OrderDate|ExpectedDeliveryDate|       CompanyName|\n",
            "+---------+--------------------+------------------+\n",
            "|12-Nov-19|            8-Jan-20|Maino World Motors|\n",
            "|30-Nov-19|           25-Jan-20|Maino World Motors|\n",
            "|27-Oct-19|           28-Jan-20|   Ilmio Jane Moto|\n",
            "|30-Oct-19|            7-Feb-20|       Raido Bikes|\n",
            "|18-Dec-19|           12-Feb-20|Maino World Motors|\n",
            "|19-Oct-19|           23-Mar-20|      Laser Wheels|\n",
            "|14-Nov-19|            9-Feb-20|       Zoom Dynamo|\n",
            "|24-Oct-19|           22-Mar-20|        Reo Bailio|\n",
            "| 6-Dec-19|           14-Jan-20|        Reo Bailio|\n",
            "|20-Oct-19|           26-Feb-20|       Zoom Dynamo|\n",
            "|27-Nov-19|           27-Feb-20|   Ilmio Jane Moto|\n",
            "|15-Dec-19|           25-Jan-20|  Wingmo Standards|\n",
            "|10-Nov-19|           20-Mar-20|   Ilmio Jane Moto|\n",
            "|18-Oct-19|           13-Mar-20|Maino World Motors|\n",
            "|25-Oct-19|           28-Feb-20|Maino World Motors|\n",
            "|12-Oct-19|            2-Mar-20|Maino World Motors|\n",
            "|30-Oct-19|            8-Mar-20|        Kioto Moto|\n",
            "| 5-Nov-19|           14-Jan-20|         Rigmarole|\n",
            "|15-Dec-19|           29-Feb-20|       Sano Wheels|\n",
            "| 8-Dec-19|           12-Jan-20|      Craiko Roads|\n",
            "+---------+--------------------+------------------+\n",
            "only showing top 20 rows\n",
            "\n"
          ]
        }
      ]
    }
  ]
}