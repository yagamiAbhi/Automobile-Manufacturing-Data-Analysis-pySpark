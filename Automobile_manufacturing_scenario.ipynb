{
  "nbformat": 4,
  "nbformat_minor": 0,
  "metadata": {
    "colab": {
      "provenance": [],
      "authorship_tag": "ABX9TyO1oFrm4VElLcJhObcQe0nO",
      "include_colab_link": true
    },
    "kernelspec": {
      "name": "python3",
      "display_name": "Python 3"
    },
    "language_info": {
      "name": "python"
    }
  },
  "cells": [
    {
      "cell_type": "markdown",
      "metadata": {
        "id": "view-in-github",
        "colab_type": "text"
      },
      "source": [
        "<a href=\"https://colab.research.google.com/github/yagamiAbhi/Automobile-Manufacturing-Data-Analysis-pySpark/blob/main/Automobile_manufacturing_scenario.ipynb\" target=\"_parent\"><img src=\"https://colab.research.google.com/assets/colab-badge.svg\" alt=\"Open In Colab\"/></a>"
      ]
    },
    {
      "cell_type": "markdown",
      "source": [
        "Consider a leading two-wheeler manufacturing unit that produces two-wheeler components for the designs provided by various automobile companies"
      ],
      "metadata": {
        "id": "iINnmIDX-z4a"
      }
    },
    {
      "cell_type": "code",
      "execution_count": 1,
      "metadata": {
        "colab": {
          "base_uri": "https://localhost:8080/"
        },
        "id": "dYi0Y3yH-ebD",
        "outputId": "99fd6b29-dc03-44ab-c1e4-46527a9238f2"
      },
      "outputs": [
        {
          "output_type": "stream",
          "name": "stdout",
          "text": [
            "Collecting pyspark\n",
            "  Downloading pyspark-3.4.1.tar.gz (310.8 MB)\n",
            "\u001b[2K     \u001b[90m━━━━━━━━━━━━━━━━━━━━━━━━━━━━━━━━━━━━━━━\u001b[0m \u001b[32m310.8/310.8 MB\u001b[0m \u001b[31m4.1 MB/s\u001b[0m eta \u001b[36m0:00:00\u001b[0m\n",
            "\u001b[?25h  Preparing metadata (setup.py) ... \u001b[?25l\u001b[?25hdone\n",
            "Requirement already satisfied: py4j==0.10.9.7 in /usr/local/lib/python3.10/dist-packages (from pyspark) (0.10.9.7)\n",
            "Building wheels for collected packages: pyspark\n",
            "  Building wheel for pyspark (setup.py) ... \u001b[?25l\u001b[?25hdone\n",
            "  Created wheel for pyspark: filename=pyspark-3.4.1-py2.py3-none-any.whl size=311285387 sha256=871ae37edf0acbe3272143f418a420bc6e6b829448077d6d67c8fe2ff9ae6e54\n",
            "  Stored in directory: /root/.cache/pip/wheels/0d/77/a3/ff2f74cc9ab41f8f594dabf0579c2a7c6de920d584206e0834\n",
            "Successfully built pyspark\n",
            "Installing collected packages: pyspark\n",
            "Successfully installed pyspark-3.4.1\n"
          ]
        }
      ],
      "source": [
        "pip install pyspark"
      ]
    },
    {
      "cell_type": "code",
      "source": [
        "from pyspark import SparkContext\n",
        "sc = SparkContext(master='local',appName='AMS')\n",
        "from pyspark.sql import SparkSession, SQLContext\n",
        "spark = SparkSession(sc)\n",
        "sqlContext = SQLContext(sc)"
      ],
      "metadata": {
        "colab": {
          "base_uri": "https://localhost:8080/"
        },
        "id": "M9yECPgUAz_D",
        "outputId": "1df68faf-496a-4322-a5f3-eab53d499a72"
      },
      "execution_count": 2,
      "outputs": [
        {
          "output_type": "stream",
          "name": "stderr",
          "text": [
            "/usr/local/lib/python3.10/dist-packages/pyspark/sql/context.py:112: FutureWarning: Deprecated in 3.0.0. Use SparkSession.builder.getOrCreate() instead.\n",
            "  warnings.warn(\n"
          ]
        }
      ]
    },
    {
      "cell_type": "markdown",
      "source": [
        "### Create Namedtuple for the schema provided for both the datasets"
      ],
      "metadata": {
        "id": "qPobVhbyB934"
      }
    },
    {
      "cell_type": "code",
      "source": [
        "from collections import namedtuple\n",
        "order=namedtuple('order',['OrderID','CompanyID','partsRequired','OrderQuantity',\n",
        "                          'CostOfPart','OrderDate','ExpectedDeliveryDate','DeliveryStatus'])\n",
        "company=namedtuple('company',['CompanyID','CompanyName','CompanyLocation','CompanyContact','EstablishedYear'])"
      ],
      "metadata": {
        "id": "cIaqy3ObFqoP"
      },
      "execution_count": 24,
      "outputs": []
    },
    {
      "cell_type": "markdown",
      "source": [
        "### Load both the csv files into RDDs"
      ],
      "metadata": {
        "id": "106sCGn2EFsf"
      }
    },
    {
      "cell_type": "code",
      "source": [
        "OrderBookRDD = sc.textFile('/content/OrderBook.csv')\n",
        "CompanyDetailsRDD = sc.textFile('/content/CompanyDetails.csv')"
      ],
      "metadata": {
        "id": "ehO-UN_xEKa_"
      },
      "execution_count": 25,
      "outputs": []
    },
    {
      "cell_type": "code",
      "source": [
        "OrderBookRDD = OrderBookRDD.map(lambda col:col.split(','))\n",
        "CompanyDetailsRDD = CompanyDetailsRDD.map(lambda col:col.split(','))"
      ],
      "metadata": {
        "id": "b5zwbVW2EdeZ"
      },
      "execution_count": 26,
      "outputs": []
    },
    {
      "cell_type": "code",
      "source": [
        "display(OrderBookRDD.take(2))\n",
        "CompanyDetailsRDD.take(2)"
      ],
      "metadata": {
        "colab": {
          "base_uri": "https://localhost:8080/",
          "height": 329
        },
        "id": "qMyy8pJ4EsGB",
        "outputId": "f6718c54-8189-4ea0-957f-7fd45b713938"
      },
      "execution_count": 27,
      "outputs": [
        {
          "output_type": "display_data",
          "data": {
            "text/plain": [
              "[['OD10001',\n",
              "  'C1108',\n",
              "  'Spring Forks',\n",
              "  '21103',\n",
              "  '9487867.48',\n",
              "  '3-Nov-19',\n",
              "  '24-Dec-19',\n",
              "  'Pending'],\n",
              " ['OD10002',\n",
              "  'C1035',\n",
              "  'Fender',\n",
              "  '26272',\n",
              "  '4899369.32',\n",
              "  '18-Dec-19',\n",
              "  '14-Mar-20',\n",
              "  'Pending']]"
            ]
          },
          "metadata": {}
        },
        {
          "output_type": "execute_result",
          "data": {
            "text/plain": [
              "[['C1001', 'Steel Wheels', 'Pennsylvania', '7172809057', '2007'],\n",
              " ['C1002', 'MotoLab Bikes', 'Texas', '6829309477', '2011']]"
            ]
          },
          "metadata": {},
          "execution_count": 27
        }
      ]
    },
    {
      "cell_type": "markdown",
      "source": [
        "### Convert both the datasets to DataFrames"
      ],
      "metadata": {
        "id": "6EpmUsVtE7Cl"
      }
    },
    {
      "cell_type": "code",
      "source": [
        "order_df = OrderBookRDD.map(lambda c : order(c[0],c[1],c[2],int(c[3]),float(c[4]),c[5],c[6],c[7])).toDF()\n",
        "order_df.printSchema()"
      ],
      "metadata": {
        "id": "R3zgoloXE-PQ",
        "colab": {
          "base_uri": "https://localhost:8080/"
        },
        "outputId": "4176a5ef-6b5d-46ea-edd5-c66e1f9e89f4"
      },
      "execution_count": 28,
      "outputs": [
        {
          "output_type": "stream",
          "name": "stdout",
          "text": [
            "root\n",
            " |-- OrderID: string (nullable = true)\n",
            " |-- CompanyID: string (nullable = true)\n",
            " |-- partsRequired: string (nullable = true)\n",
            " |-- OrderQuantity: long (nullable = true)\n",
            " |-- CostOfPart: double (nullable = true)\n",
            " |-- OrderDate: string (nullable = true)\n",
            " |-- ExpectedDeliveryDate: string (nullable = true)\n",
            " |-- DeliveryStatus: string (nullable = true)\n",
            "\n"
          ]
        }
      ]
    },
    {
      "cell_type": "code",
      "source": [
        "company_df = spark.createDataFrame(CompanyDetailsRDD.map(lambda c : company(c[0],c[1],c[2],int(c[3]),int(c[4]))))\n",
        "company_df.printSchema()"
      ],
      "metadata": {
        "colab": {
          "base_uri": "https://localhost:8080/"
        },
        "id": "9K1t0nAEIjUQ",
        "outputId": "4308c623-2339-4635-acc5-60aa2f28ad57"
      },
      "execution_count": 29,
      "outputs": [
        {
          "output_type": "stream",
          "name": "stdout",
          "text": [
            "root\n",
            " |-- CompanyID: string (nullable = true)\n",
            " |-- CompanyName: string (nullable = true)\n",
            " |-- CompanyLocation: string (nullable = true)\n",
            " |-- CompanyContact: long (nullable = true)\n",
            " |-- EstablishedYear: long (nullable = true)\n",
            "\n"
          ]
        }
      ]
    },
    {
      "cell_type": "code",
      "source": [
        "print('Total records in OrderBook DF : ', order_df.count())\n",
        "order_df.show(3)\n",
        "\n",
        "print('Total records in CompanyDetails DF : ', company_df.count())\n",
        "company_df.show(3)"
      ],
      "metadata": {
        "colab": {
          "base_uri": "https://localhost:8080/"
        },
        "id": "9SRtYGAeJXub",
        "outputId": "8946af7e-5a14-4ebb-e2a0-3c0a7c4c06b4"
      },
      "execution_count": 30,
      "outputs": [
        {
          "output_type": "stream",
          "name": "stdout",
          "text": [
            "Total records in OrderBook DF :  1000\n",
            "+-------+---------+-------------+-------------+----------+---------+--------------------+--------------+\n",
            "|OrderID|CompanyID|partsRequired|OrderQuantity|CostOfPart|OrderDate|ExpectedDeliveryDate|DeliveryStatus|\n",
            "+-------+---------+-------------+-------------+----------+---------+--------------------+--------------+\n",
            "|OD10001|    C1108| Spring Forks|        21103|9487867.48| 3-Nov-19|           24-Dec-19|       Pending|\n",
            "|OD10002|    C1035|       Fender|        26272|4899369.32|18-Dec-19|           14-Mar-20|       Pending|\n",
            "|OD10003|    C1174|    Generator|        39789|4008848.49| 7-Dec-19|           31-Jan-20|     Delivered|\n",
            "+-------+---------+-------------+-------------+----------+---------+--------------------+--------------+\n",
            "only showing top 3 rows\n",
            "\n",
            "Total records in CompanyDetails DF :  200\n",
            "+---------+-------------+---------------+--------------+---------------+\n",
            "|CompanyID|  CompanyName|CompanyLocation|CompanyContact|EstablishedYear|\n",
            "+---------+-------------+---------------+--------------+---------------+\n",
            "|    C1001| Steel Wheels|   Pennsylvania|    7172809057|           2007|\n",
            "|    C1002|MotoLab Bikes|          Texas|    6829309477|           2011|\n",
            "|    C1003|     Lee Auto|     California|    6193601290|           1994|\n",
            "+---------+-------------+---------------+--------------+---------------+\n",
            "only showing top 3 rows\n",
            "\n"
          ]
        }
      ]
    },
    {
      "cell_type": "markdown",
      "source": [
        "### Fetch the details of all the companies that are at least 15 years old"
      ],
      "metadata": {
        "id": "0kJVkmRdJwAH"
      }
    },
    {
      "cell_type": "code",
      "source": [
        "comp_15yrs_old = company_df.filter((2023 - company_df.EstablishedYear) >= 15)\n",
        "print('Total numbers of company that are atleast 15 yrs old: ', comp_15yrs_old.count())\n",
        "comp_15yrs_old.show()"
      ],
      "metadata": {
        "colab": {
          "base_uri": "https://localhost:8080/"
        },
        "id": "zp3XPBkPJzgQ",
        "outputId": "18a1a897-b60c-4f74-8cff-8fa0e09520de"
      },
      "execution_count": 31,
      "outputs": [
        {
          "output_type": "stream",
          "name": "stdout",
          "text": [
            "Total numbers of company that are atleast 15 yrs old:  150\n",
            "+---------+----------------+---------------+--------------+---------------+\n",
            "|CompanyID|     CompanyName|CompanyLocation|CompanyContact|EstablishedYear|\n",
            "+---------+----------------+---------------+--------------+---------------+\n",
            "|    C1001|    Steel Wheels|   Pennsylvania|    7172809057|           2007|\n",
            "|    C1003|        Lee Auto|     California|    6193601290|           1994|\n",
            "|    C1004|     Zoom Dynamo|          Texas|    8327309957|           1993|\n",
            "|    C1005|Quakesons Motors|          Texas|    8175902345|           2002|\n",
            "|    C1007|     Raido Bikes|         Hawaii|    8086946394|           2001|\n",
            "|    C1009| Ilmio Jane Moto|   Pennsylvania|    6108768782|           2007|\n",
            "|    C1011|    Steel Wheels|        Arizona|    6026446720|           1992|\n",
            "|    C1012|Wingmo Standards|     Washington|    5091629062|           2006|\n",
            "|    C1013|    Craiko Roads|           Iowa|    3191050692|           1990|\n",
            "|    C1014|      Reo Bailio|     California|    6195580058|           1995|\n",
            "|    C1015|    Craiko Roads|  Massachusetts|    9787302834|           1991|\n",
            "|    C1017|       Rigmarole|   Pennsylvania|    8143178647|           2006|\n",
            "|    C1018|     Raido Bikes|       Illinois|    8476652456|           1998|\n",
            "|    C1019|     Zoom Dynamo|       Oklahoma|    9183903501|           1992|\n",
            "|    C1020|       Rigmarole|     New Jersey|    8624680309|           2003|\n",
            "|    C1021|       Rigmarole|       Colorado|    7196867948|           2007|\n",
            "|    C1022|     Zoom Dynamo|     California|    6191426647|           1995|\n",
            "|    C1023| Ilmio Jane Moto|      Louisiana|    3189460123|           1993|\n",
            "|    C1024|         Neopins| North Carolina|    3362990838|           2007|\n",
            "|    C1025|     Wicker Auto|   North Dakota|    7011993313|           2006|\n",
            "+---------+----------------+---------------+--------------+---------------+\n",
            "only showing top 20 rows\n",
            "\n"
          ]
        }
      ]
    },
    {
      "cell_type": "markdown",
      "source": [
        "### Fetch the name of the company who have ordered “Brakes”"
      ],
      "metadata": {
        "id": "8K3fWFTrMvpU"
      }
    },
    {
      "cell_type": "code",
      "source": [
        "join_df = order_df.join(other=company_df, on='CompanyID', how='inner')\n",
        "join_df.filter(\"partsRequired=='Brakes'\").select(['CompanyName','partsRequired']).show()"
      ],
      "metadata": {
        "colab": {
          "base_uri": "https://localhost:8080/"
        },
        "id": "yR1vPbupM0vr",
        "outputId": "74ae9b6b-6cf2-4423-cd86-163f29c9f4d8"
      },
      "execution_count": 33,
      "outputs": [
        {
          "output_type": "stream",
          "name": "stdout",
          "text": [
            "+------------------+-------------+\n",
            "|       CompanyName|partsRequired|\n",
            "+------------------+-------------+\n",
            "|       Zoom Dynamo|       Brakes|\n",
            "|      Craiko Roads|       Brakes|\n",
            "|        Kioto Moto|       Brakes|\n",
            "|       Raido Bikes|       Brakes|\n",
            "|       Raido Bikes|       Brakes|\n",
            "|      Laser Wheels|       Brakes|\n",
            "|  Quakesons Motors|       Brakes|\n",
            "|      Steel Wheels|       Brakes|\n",
            "|        Reo Bailio|       Brakes|\n",
            "|        Kioto Moto|       Brakes|\n",
            "|      Damson Bikes|       Brakes|\n",
            "|          Lee Auto|       Brakes|\n",
            "|      Damson Bikes|       Brakes|\n",
            "|        Kioto Moto|       Brakes|\n",
            "|Maino World Motors|       Brakes|\n",
            "|           Neopins|       Brakes|\n",
            "|      Steel Wheels|       Brakes|\n",
            "|          Lee Auto|       Brakes|\n",
            "|  Quakesons Motors|       Brakes|\n",
            "|           Neopins|       Brakes|\n",
            "+------------------+-------------+\n",
            "only showing top 20 rows\n",
            "\n"
          ]
        }
      ]
    },
    {
      "cell_type": "code",
      "source": [
        "print('Total numbers of company who ordered \"Brakes\" : ',join_df.filter(\"partsRequired=='Brakes'\").count())"
      ],
      "metadata": {
        "colab": {
          "base_uri": "https://localhost:8080/"
        },
        "id": "ZEUi8ahAOBWn",
        "outputId": "28af8550-6c7f-441f-f1eb-1d5ad60c63d1"
      },
      "execution_count": 34,
      "outputs": [
        {
          "output_type": "stream",
          "name": "stdout",
          "text": [
            "Total numbers of company who ordered \"Brakes\" :  42\n"
          ]
        }
      ]
    },
    {
      "cell_type": "markdown",
      "source": [
        "### Find the total number of “Exhaust Pipes” that have been ordered from “New York” location"
      ],
      "metadata": {
        "id": "aJNZZXW9Oglq"
      }
    },
    {
      "cell_type": "code",
      "source": [
        "temp = join_df.filter( (join_df.partsRequired=='Exhaust Pipes') & (join_df.CompanyLocation=='New York') )\n",
        "print('Total number of “Exhaust Pipes” that have been ordered from “New York” location: ', temp.count())"
      ],
      "metadata": {
        "colab": {
          "base_uri": "https://localhost:8080/"
        },
        "id": "M-fXeEUCOtYq",
        "outputId": "4032b69c-c9a0-4beb-9ff6-32f5eb3a6853"
      },
      "execution_count": 35,
      "outputs": [
        {
          "output_type": "stream",
          "name": "stdout",
          "text": [
            "Total number of “Exhaust Pipes” that have been ordered from “New York” location:  2\n"
          ]
        }
      ]
    },
    {
      "cell_type": "markdown",
      "source": [
        "### Find the total count of all the orders that has been “Delivered”"
      ],
      "metadata": {
        "id": "HaSihrFfTChP"
      }
    },
    {
      "cell_type": "code",
      "source": [
        "temp = order_df.filter(\"DeliveryStatus=='Delivered'\")\n",
        "print('Total count of all the orders that has been Delivered: ', temp.count())"
      ],
      "metadata": {
        "colab": {
          "base_uri": "https://localhost:8080/"
        },
        "id": "zf0HRMjyTVxa",
        "outputId": "a8768c77-e25c-4f78-d6a2-28490c3a765a"
      },
      "execution_count": 36,
      "outputs": [
        {
          "output_type": "stream",
          "name": "stdout",
          "text": [
            "Total count of all the orders that has been Delivered:  255\n"
          ]
        }
      ]
    },
    {
      "cell_type": "markdown",
      "source": [
        "### Find the total count of all the orders that has been “Pending”"
      ],
      "metadata": {
        "id": "I_1Gd0rGUTkN"
      }
    },
    {
      "cell_type": "code",
      "source": [
        "temp = order_df.filter(\"DeliveryStatus=='Pending'\")\n",
        "print('Total count of all the orders that has been Pending: ', temp.count())"
      ],
      "metadata": {
        "colab": {
          "base_uri": "https://localhost:8080/"
        },
        "id": "u9VYTl96UYC1",
        "outputId": "169f9472-72cf-4929-867e-297d8f52252d"
      },
      "execution_count": 37,
      "outputs": [
        {
          "output_type": "stream",
          "name": "stdout",
          "text": [
            "Total count of all the orders that has been Pending:  745\n"
          ]
        }
      ]
    },
    {
      "cell_type": "markdown",
      "source": [
        "### Find the total quantity and cost of all the parts ordered from “North Carolina” location"
      ],
      "metadata": {
        "id": "7mFptfTvUv5l"
      }
    },
    {
      "cell_type": "code",
      "source": [
        "temp = join_df.filter(join_df.CompanyLocation=='North Carolina')"
      ],
      "metadata": {
        "id": "s2U14VHHUxce"
      },
      "execution_count": 38,
      "outputs": []
    },
    {
      "cell_type": "code",
      "source": [
        "temp.agg({\"OrderQuantity\": \"sum\", \"CostOfPart\": \"sum\"}).show()"
      ],
      "metadata": {
        "colab": {
          "base_uri": "https://localhost:8080/"
        },
        "id": "p0y2oFHvYGoP",
        "outputId": "bbdb2d3b-0b16-4d6d-ffe9-eb3e1e1154a3"
      },
      "execution_count": 39,
      "outputs": [
        {
          "output_type": "stream",
          "name": "stdout",
          "text": [
            "+--------------------+------------------+\n",
            "|     sum(CostOfPart)|sum(OrderQuantity)|\n",
            "+--------------------+------------------+\n",
            "|1.4936626448999998E8|            974157|\n",
            "+--------------------+------------------+\n",
            "\n"
          ]
        }
      ]
    },
    {
      "cell_type": "markdown",
      "source": [
        "### Display the start date, end date and company name who have ordered for “Exhaust Pipes”"
      ],
      "metadata": {
        "id": "CL1TuyX-aXiV"
      }
    },
    {
      "cell_type": "code",
      "source": [
        "join_df.filter(join_df.partsRequired=='Exhaust Pipes').select(['OrderDate', 'ExpectedDeliveryDate', 'CompanyName']).show()"
      ],
      "metadata": {
        "colab": {
          "base_uri": "https://localhost:8080/"
        },
        "id": "S7VVo2sfaZHU",
        "outputId": "5c12bec2-8b46-4903-8608-9d49dabf5cd4"
      },
      "execution_count": 40,
      "outputs": [
        {
          "output_type": "stream",
          "name": "stdout",
          "text": [
            "+---------+--------------------+------------------+\n",
            "|OrderDate|ExpectedDeliveryDate|       CompanyName|\n",
            "+---------+--------------------+------------------+\n",
            "|12-Nov-19|            8-Jan-20|Maino World Motors|\n",
            "|30-Nov-19|           25-Jan-20|Maino World Motors|\n",
            "|27-Oct-19|           28-Jan-20|   Ilmio Jane Moto|\n",
            "|30-Oct-19|            7-Feb-20|       Raido Bikes|\n",
            "|18-Dec-19|           12-Feb-20|Maino World Motors|\n",
            "|19-Oct-19|           23-Mar-20|      Laser Wheels|\n",
            "|14-Nov-19|            9-Feb-20|       Zoom Dynamo|\n",
            "|24-Oct-19|           22-Mar-20|        Reo Bailio|\n",
            "| 6-Dec-19|           14-Jan-20|        Reo Bailio|\n",
            "|20-Oct-19|           26-Feb-20|       Zoom Dynamo|\n",
            "|27-Nov-19|           27-Feb-20|   Ilmio Jane Moto|\n",
            "|15-Dec-19|           25-Jan-20|  Wingmo Standards|\n",
            "|10-Nov-19|           20-Mar-20|   Ilmio Jane Moto|\n",
            "|18-Oct-19|           13-Mar-20|Maino World Motors|\n",
            "|25-Oct-19|           28-Feb-20|Maino World Motors|\n",
            "|12-Oct-19|            2-Mar-20|Maino World Motors|\n",
            "|30-Oct-19|            8-Mar-20|        Kioto Moto|\n",
            "| 5-Nov-19|           14-Jan-20|         Rigmarole|\n",
            "|15-Dec-19|           29-Feb-20|       Sano Wheels|\n",
            "| 8-Dec-19|           12-Jan-20|      Craiko Roads|\n",
            "+---------+--------------------+------------------+\n",
            "only showing top 20 rows\n",
            "\n"
          ]
        }
      ]
    }
  ]
}